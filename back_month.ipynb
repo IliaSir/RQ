{
 "cells": [
  {
   "attachments": {},
   "cell_type": "markdown",
   "metadata": {},
   "source": [
    "# Подгружаем нужные пакеты"
   ]
  },
  {
   "cell_type": "code",
   "execution_count": 1,
   "metadata": {},
   "outputs": [],
   "source": [
    "import pandas as pd\n",
    "\n",
    "import numpy as np\n",
    "\n",
    "from datetime import datetime\n",
    "\n",
    "import yfinance as yf\n",
    "\n",
    "import matplotlib.pyplot as plt\n",
    "\n",
    "import os\n",
    "\n",
    "import math\n",
    "\n",
    "import statistics\n",
    "\n",
    "import xlsxwriter"
   ]
  },
  {
   "attachments": {},
   "cell_type": "markdown",
   "metadata": {},
   "source": [
    "# Скачиваем веса портфеля"
   ]
  },
  {
   "cell_type": "code",
   "execution_count": 10,
   "metadata": {},
   "outputs": [],
   "source": [
    "\n",
    "df = pd.read_excel(\"Connect.xlsx\", sheet_name=None)\n",
    "\n",
    "sheets = pd.ExcelFile(\"Connect.xlsx\").sheet_names\n",
    "\n",
    "papers = []\n",
    "for sheet in sheets:\n",
    "    for comp in list(df[sheet]['comp'].values):\n",
    "        papers.append(comp)\n",
    "\n",
    "papers = list(np.unique(papers))\n",
    "\n",
    "weights_min = {}\n",
    "for comp in papers:\n",
    "    w = []\n",
    "    for sheet in sheets:\n",
    "        if df[sheet][df[sheet]['comp'] == comp]['Weight'].empty:\n",
    "            w.append(0)\n",
    "        else:\n",
    "            w.append(round(float(df[sheet][df[sheet]['comp'] == comp]['Weight']), 5))\n",
    "    weights_min[comp] = w"
   ]
  },
  {
   "attachments": {},
   "cell_type": "markdown",
   "metadata": {},
   "source": [
    "## Добываем данные по валютам торгов"
   ]
  },
  {
   "cell_type": "code",
   "execution_count": 11,
   "metadata": {},
   "outputs": [],
   "source": [
    "currencies = {}\n",
    "tikers = yf.Tickers(papers)\n",
    "\n",
    "for tiker in tikers.tickers:\n",
    "    try:\n",
    "        cur = tikers.tickers[tiker].history_metadata['currency']\n",
    "        if cur != 'EUR':\n",
    "            currencies[tiker] = cur+'EUR=X'\n",
    "        else:\n",
    "            currencies[tiker] = cur\n",
    "    except:\n",
    "        print(tiker)\n"
   ]
  },
  {
   "cell_type": "code",
   "execution_count": 12,
   "metadata": {},
   "outputs": [
    {
     "name": "stdout",
     "output_type": "stream",
     "text": [
      "[*********************100%***********************]  6 of 6 completed\n"
     ]
    }
   ],
   "source": [
    "valuta = yf.download(list(currencies.values()), start = \"2017-03-01\", end = \"2023-06-30\", interval='1mo')"
   ]
  },
  {
   "attachments": {},
   "cell_type": "markdown",
   "metadata": {},
   "source": [
    "## Качаем данные по бумагам"
   ]
  },
  {
   "cell_type": "code",
   "execution_count": 13,
   "metadata": {},
   "outputs": [
    {
     "name": "stdout",
     "output_type": "stream",
     "text": [
      "[*********************100%***********************]  22 of 22 completed\n"
     ]
    }
   ],
   "source": [
    "data = yf.download(papers, start = \"2017-03-01\", end = \"2023-06-30\", interval='1mo')\n",
    "\n",
    "data = data.fillna(method = 'ffill')\n",
    "\n",
    "data = data.fillna(0)"
   ]
  },
  {
   "cell_type": "code",
   "execution_count": 14,
   "metadata": {},
   "outputs": [],
   "source": [
    "valuta = valuta['Adj Close']"
   ]
  },
  {
   "cell_type": "code",
   "execution_count": 79,
   "metadata": {},
   "outputs": [],
   "source": [
    "currencies['AFC.L'] = 'GBPEUR=X'"
   ]
  },
  {
   "attachments": {},
   "cell_type": "markdown",
   "metadata": {},
   "source": [
    "## Выравниваем всю валюту к евро "
   ]
  },
  {
   "cell_type": "code",
   "execution_count": 15,
   "metadata": {},
   "outputs": [],
   "source": [
    "def currencie_adjustment(data, currencies, cur_data):\n",
    "    new_data = pd.DataFrame()\n",
    "    for asset in currencies:\n",
    "        if currencies[asset] != 'EUR':\n",
    "            new_data[asset] = data['Adj Close'][asset] * cur_data[currencies[asset]]\n",
    "        else:\n",
    "            new_data[asset] = data['Adj Close'][asset]\n",
    "    return(new_data)"
   ]
  },
  {
   "cell_type": "code",
   "execution_count": 16,
   "metadata": {},
   "outputs": [],
   "source": [
    "new_data = currencie_adjustment(data, currencies=currencies, cur_data = valuta)\n",
    "new_data = new_data.fillna(method = 'ffill')"
   ]
  },
  {
   "attachments": {},
   "cell_type": "markdown",
   "metadata": {},
   "source": [
    "## Сам бэктест"
   ]
  },
  {
   "cell_type": "code",
   "execution_count": 82,
   "metadata": {},
   "outputs": [],
   "source": [
    "def trade(i, weights, portfolio, month_counter, cash, data, comission, orders, total_comission):\n",
    "    value = 0\n",
    "    asset_value = {}\n",
    "    for asset in portfolio:\n",
    "        asset_value[asset] = portfolio[asset] * data.iloc[i][asset]\n",
    "        value += asset_value[asset]\n",
    "\n",
    "    for asset in portfolio:\n",
    "                \n",
    "        target_weight = weights[asset][month_counter]\n",
    "        current_weight = asset_value[asset] / value\n",
    "        if data.iloc[i][asset] != 0:\n",
    "            if current_weight < target_weight:\n",
    "                req_pos = math.floor((value + cash) * target_weight / data.iloc[i][asset])\n",
    "                diff = req_pos - portfolio[asset]\n",
    "                if abs(diff)*data.iloc[i][asset] <= cash:\n",
    "                    orders.append([asset, diff, data.iloc[i][asset], data.iloc[i].name.date()])\n",
    "                    portfolio[asset] = req_pos\n",
    "                    cash -= (diff * data.iloc[i+2][asset]+3)\n",
    "                    total_comission += 3\n",
    "\n",
    "            elif current_weight > target_weight:\n",
    "                req_pos = math.floor((value + cash) * target_weight / data.iloc[i][asset])\n",
    "                diff = portfolio[asset] - req_pos\n",
    "                orders.append([asset, -diff, data.iloc[i][asset], data.iloc[i].name.date()])\n",
    "                portfolio[asset] = req_pos\n",
    "                cash += diff * data.iloc[i+2][asset] - 3\n",
    "                total_comission += 3\n",
    "    return(portfolio, value, cash, orders, total_comission)\n",
    "    \n",
    "def backtest(data, cash, weights):\n",
    "\n",
    "    comission = 0.005\n",
    "    dates = data.index\n",
    "\n",
    "    portfolio = {}\n",
    "    for asset in weights:\n",
    "        portfolio[asset] = 0\n",
    "\n",
    "    prev_month = None\n",
    "    first_date = None\n",
    "    equity = [cash]\n",
    "    orders = []\n",
    "\n",
    "    d = []\n",
    "\n",
    "    month_counter = 0\n",
    "    total_comission = 0\n",
    "\n",
    "    track_cash = []\n",
    "\n",
    "    for i in range(len(dates)-2):\n",
    "\n",
    "        month = data.iloc[i].name.month\n",
    "\n",
    "        if prev_month is None:  # для первой даты в массиве\n",
    "            sum = 0\n",
    "            prev_month = month\n",
    "            first_date = i\n",
    "            print(\"Месяц изменился:\", prev_month, \"->\", month)\n",
    "            print(\"Первая дата года:\", data.iloc[i].name.date())\n",
    "            for asset in portfolio:\n",
    "                if data.iloc[i][asset] != 0:\n",
    "                    quantity = math.floor(cash*weights_min[asset][month_counter]/data.iloc[i+2][asset])\n",
    "                    portfolio[asset] = quantity\n",
    "                    orders.append([asset, quantity, data.iloc[i+2][asset], data.iloc[i].name.date()])\n",
    "                    sum += portfolio[asset] * data.iloc[i+2][asset]\n",
    "                    total_comission += 3\n",
    "            cash = cash - sum*(1+comission) - 3\n",
    "            d.append(data.iloc[i].name)\n",
    "\n",
    "\n",
    "        elif prev_month != month:\n",
    "            prev_month = month\n",
    "            month_counter += 1\n",
    "            portfolio, value, cash, orders, total_comission = trade(i = i, weights=weights, portfolio=portfolio, month_counter=month_counter, cash=cash, data=data, comission=comission, orders=orders, total_comission=total_comission)\n",
    "            equity.append(value + cash)\n",
    "            d.append(data.iloc[i].name)\n",
    "        else:\n",
    "            portfolio, value, cash, orders, total_comission = trade(i = i, weights=weights, portfolio=portfolio, month_counter=month_counter, cash=cash, data=data, comission=comission, orders=orders, total_comission=total_comission)\n",
    "            equity.append(value + cash)\n",
    "            d.append(data.iloc[i].name)\n",
    "            \n",
    "    return equity, orders, total_comission, portfolio, d"
   ]
  },
  {
   "cell_type": "code",
   "execution_count": 83,
   "metadata": {},
   "outputs": [
    {
     "name": "stdout",
     "output_type": "stream",
     "text": [
      "Месяц изменился: 3 -> 3\n",
      "Первая дата года: 2017-03-01\n"
     ]
    }
   ],
   "source": [
    "eq, ord, tc, portf, d = backtest(new_data, cash = 10000, weights = weights_min)"
   ]
  },
  {
   "cell_type": "code",
   "execution_count": 84,
   "metadata": {},
   "outputs": [
    {
     "data": {
      "text/plain": [
       "[<matplotlib.lines.Line2D at 0x14aaf89a0>]"
      ]
     },
     "execution_count": 84,
     "metadata": {},
     "output_type": "execute_result"
    }
   ],
   "source": [
    "dates = data.index\n",
    "plt.figure(figsize=(15, 5))\n",
    "plt.plot(dates[:-2], eq)"
   ]
  },
  {
   "attachments": {},
   "cell_type": "markdown",
   "metadata": {},
   "source": [
    "### Создание файла со статистикой и картинками"
   ]
  },
  {
   "cell_type": "code",
   "execution_count": 85,
   "metadata": {},
   "outputs": [],
   "source": [
    "def create_plot(equity, banch, banchmark, adjusted = False):\n",
    "    plt.ioff()\n",
    "    if adjusted:\n",
    "        plt.figure(figsize = (15,6))\n",
    "        plt.plot(equity, color='red', label = 'portfolio')\n",
    "\n",
    "        plt.plot(banch['Adj Close']/banch['Adj Close'][0], color='blue', label = banchmark)\n",
    "        plt.xlabel('Time')\n",
    "        plt.ylabel('Return')\n",
    "        \n",
    "        \n",
    "        plt.legend()\n",
    "        \n",
    "        plot_name = banchmark+'_adj'\n",
    "    else:\n",
    "        fig, ax1 = plt.subplots(figsize=(15, 6))\n",
    "           \n",
    "        # Построение первого набора данных на первой оси\n",
    "        ax1.plot(equity, color='red', label = 'portfolio')\n",
    "        ax1.tick_params(axis='y', labelcolor='red')\n",
    "\n",
    "        # Создание второй оси для второго набора данных\n",
    "        ax2 = ax1.twinx()\n",
    "\n",
    "        # Построение второго набора данных на второй оси\n",
    "        ax2.plot(banch['Adj Close'], color='blue', label = banchmark)\n",
    "        ax2.tick_params(axis='y', labelcolor='blue')\n",
    "        plot_name = banchmark\n",
    "\n",
    "        # Отvображение графика\n",
    "        lines1, labels1 = ax1.get_legend_handles_labels()\n",
    "        lines2, labels2 = ax2.get_legend_handles_labels()\n",
    "        lines = lines1 + lines2\n",
    "        labels = labels1 + labels2\n",
    "        ax1.legend(lines, labels, loc='upper left')\n",
    "        plt.xlabel('Time')\n",
    "        plt.ylabel('Return')\n",
    "            \n",
    "    \n",
    "    plt.savefig(plot_name)"
   ]
  },
  {
   "cell_type": "code",
   "execution_count": 86,
   "metadata": {},
   "outputs": [],
   "source": [
    "def create_stats(eq, banchmarks, start_cash, num_years, risk_free, orders, total_comission, filename):\n",
    "    compaund_return = ((eq[-1]/start_cash)**(1/num_years) - 1) *100\n",
    "\n",
    "    total_return = eq[-1]/start_cash - 1\n",
    "\n",
    "    vol = np.std(eq)\n",
    "\n",
    "    sharpe = (np.mean(np.array(eq)/start_cash - 1) - risk_free)/np.std(np.array(eq)/start_cash - 1)\n",
    "\n",
    "    equity = pd.Series(eq, index = dates[:-2])\n",
    "    \n",
    "    return_portfolio = (equity / equity.shift(1)) - 1\n",
    "\n",
    "    portfolio_value = equity\n",
    "    drawdowns = np.zeros_like(portfolio_value)\n",
    "    for i in range(1, len(portfolio_value)):\n",
    "        drawdowns[i] = (portfolio_value[i] - np.max(portfolio_value[:i])) / np.max(portfolio_value[:i])\n",
    "\n",
    "    # Calculate the maximum drawdown of the portfolio\n",
    "    max_drawdown = np.min(drawdowns)\n",
    "\n",
    "    max_drawdown_percent = max_drawdown * 100\n",
    "\n",
    "    end_idx = np.where(drawdowns == max_drawdown)[0][-1]\n",
    "    start_idx = np.argmax(portfolio_value[:end_idx])  \n",
    "\n",
    "    orders_table = pd.DataFrame(orders, columns=['Tiker', 'Quantity', 'Price', 'Date'])\n",
    "\n",
    "    general_results = pd.DataFrame([[compaund_return, total_return*100,vol, sharpe, max_drawdown_percent, dates[start_idx].date(), dates[end_idx].date(), total_comission, sum(abs(orders_table['Quantity'])*orders_table['Price']),len(orders), ]], \n",
    "                                   columns=[ 'Compaund return','Return','Std', 'Sharpe', 'Max Drawdown','Begin Drawdown','End Drawdown', 'Comisson fees', 'Volume','Num trades'])\n",
    "\n",
    "    with pd.ExcelWriter(filename+'.xlsx', engine = 'xlsxwriter') as writer:   \n",
    "        general_results.to_excel(writer, sheet_name = 'Metrix')  \n",
    "        orders_table.to_excel(writer, sheet_name='Orders')\n",
    "\n",
    "        worksheet = writer.sheets['Metrix']\n",
    "        worksheet.write('M4', 'Dynamics adjusted to 1:')\n",
    "        col = 'A'\n",
    "        \n",
    "        row_counter = 4\n",
    "        for banchmark in banchmarks:\n",
    "\n",
    "            banch = yf.download(banchmark, start = '2017-03-01', end = '2023-06-30', interval='1mo')\n",
    "            market_return = (banch['Adj Close']/banch['Adj Close'].shift(1)) - 1\n",
    "\n",
    "            total_banch_return = banch['Adj Close'][-1]/banch['Adj Close'][0] - 1\n",
    "\n",
    "            result = return_portfolio[1:].loc[market_return[1:-2].index]\n",
    "\n",
    "            beta = np.cov(result, market_return[1:-2])[0, 1] / np.var(market_return)\n",
    "            \n",
    "            Rp = result.mean()  # средняя доходность портфеля\n",
    "            Rf = risk_free  # безрисковая ставка доходности\n",
    "            Rm = market_return[1:].mean()\n",
    "\n",
    "            alpha = Rp - beta * (Rm - Rf)\n",
    "\n",
    "            te = np.std(result - market_return[1:-2])    \n",
    "            ir = (total_return - total_banch_return)/te\n",
    "\n",
    "            worksheet.write(col+str(row_counter), banchmark)\n",
    "            banch_results = pd.DataFrame([[alpha, beta, total_banch_return*100, ir]], columns=[ 'Alpha', 'Beta', 'Total return of Banchmark', 'IR'])\n",
    "\n",
    "            banch_results.to_excel(writer, sheet_name = 'Metrix', startrow = row_counter)\n",
    "\n",
    "            row_counter += 3\n",
    "\n",
    "            create_plot(equity = equity, banch=banch, banchmark = banchmark)\n",
    "\n",
    "            create_plot(equity = equity/start_cash, banch=banch, banchmark = banchmark, adjusted = True)\n",
    "\n",
    "            worksheet.insert_image(col+str(row_counter),banchmark+'.png', {\"x_scale\": 0.5, \"y_scale\": 0.5})\n",
    "\n",
    "            worksheet.insert_image('M'+str(row_counter),banchmark+'_adj.png', {\"x_scale\": 0.5, \"y_scale\": 0.5})\n",
    "            row_counter += 15\n"
   ]
  },
  {
   "cell_type": "code",
   "execution_count": 87,
   "metadata": {},
   "outputs": [
    {
     "name": "stdout",
     "output_type": "stream",
     "text": [
      "[*********************100%***********************]  1 of 1 completed\n",
      "[*********************100%***********************]  1 of 1 completed\n",
      "[*********************100%***********************]  1 of 1 completed\n",
      "[*********************100%***********************]  1 of 1 completed\n",
      "[*********************100%***********************]  1 of 1 completed\n"
     ]
    }
   ],
   "source": [
    "plt.clf()\n",
    "create_stats(eq, banchmarks = ['^GSPC', 'ICLN','^STOXX', 'URTH', '^GSPE'], start_cash = 10000, num_years = 7, risk_free = 0.0237, orders=ord, total_comission = tc, filename = 'small_results_3')"
   ]
  },
  {
   "cell_type": "markdown",
   "metadata": {},
   "source": [
    "20% облиг\n"
   ]
  },
  {
   "cell_type": "code",
   "execution_count": 54,
   "metadata": {},
   "outputs": [],
   "source": [
    "weights_20 = weights_min\n",
    "\n",
    "for i in range(len(weights_min['NEE'])):\n",
    "    if weights_20['BGRN'] != 0:\n",
    "        weights_20['BGRN'][i] -= 0.1\n",
    "        for asset in weights_20:\n",
    "            weights_20[asset][i] += weights_20[asset][i]/0.55 * 0.1\n",
    "\n"
   ]
  },
  {
   "cell_type": "code",
   "execution_count": 55,
   "metadata": {},
   "outputs": [
    {
     "name": "stdout",
     "output_type": "stream",
     "text": [
      "Месяц изменился: 3 -> 3\n",
      "Первая дата года: 2017-03-01\n"
     ]
    }
   ],
   "source": [
    "eq, ord, tc, portf, d = backtest(new_data, cash = 10000, weights = weights_20)"
   ]
  },
  {
   "cell_type": "code",
   "execution_count": 56,
   "metadata": {},
   "outputs": [
    {
     "name": "stdout",
     "output_type": "stream",
     "text": [
      "[*********************100%***********************]  1 of 1 completed\n",
      "[*********************100%***********************]  1 of 1 completed\n",
      "[*********************100%***********************]  1 of 1 completed\n",
      "[*********************100%***********************]  1 of 1 completed\n",
      "[*********************100%***********************]  1 of 1 completed\n"
     ]
    }
   ],
   "source": [
    "plt.clf\n",
    "plt.ioff\n",
    "create_stats(eq, banchmarks = ['^GSPC', 'ICLN','^STOXX', 'URTH', '^GSPE'], start_cash = 10000, num_years = 7, risk_free = 0.0237, orders=ord, total_comission = tc, filename='small_back_20')"
   ]
  },
  {
   "cell_type": "code",
   "execution_count": 57,
   "metadata": {},
   "outputs": [],
   "source": [
    "weights_10 = weights_20\n",
    "\n",
    "for i in range(len(weights_min['300274.SZ'])):\n",
    "    if weights_10['BGRN'] != 0:\n",
    "        weights_10['BGRN'][i] -= 0.1\n",
    "        for asset in weights_10:\n",
    "            weights_10[asset][i] += weights_10[asset][i]/0.55 * 0.1"
   ]
  },
  {
   "cell_type": "code",
   "execution_count": 58,
   "metadata": {},
   "outputs": [
    {
     "name": "stdout",
     "output_type": "stream",
     "text": [
      "Месяц изменился: 3 -> 3\n",
      "Первая дата года: 2017-03-01\n",
      "[*********************100%***********************]  1 of 1 completed\n"
     ]
    },
    {
     "name": "stderr",
     "output_type": "stream",
     "text": [
      "/var/folders/5v/nn5t_5c94zs0qj28kd48537m0000gn/T/ipykernel_33346/1398889471.py:16: RuntimeWarning: More than 20 figures have been opened. Figures created through the pyplot interface (`matplotlib.pyplot.figure`) are retained until explicitly closed and may consume too much memory. (To control this warning, see the rcParam `figure.max_open_warning`). Consider using `matplotlib.pyplot.close()`.\n",
      "  fig, ax1 = plt.subplots(figsize=(15, 6))\n"
     ]
    },
    {
     "name": "stdout",
     "output_type": "stream",
     "text": [
      "[*********************100%***********************]  1 of 1 completed\n",
      "[*********************100%***********************]  1 of 1 completed\n",
      "[*********************100%***********************]  1 of 1 completed\n",
      "[*********************100%***********************]  1 of 1 completed\n"
     ]
    }
   ],
   "source": [
    "eq, ord, tc, portf, d = backtest(new_data, cash = 100000, weights = weights_10)\n",
    "plt.clf\n",
    "plt.ioff\n",
    "create_stats(eq, banchmarks = ['^GSPC', 'ICLN','^STOXX', 'URTH', '^GSPE'], start_cash = 100000, num_years = 7, risk_free = 0.0237, orders=ord, total_comission = tc, filename='connect_back_10')"
   ]
  },
  {
   "cell_type": "code",
   "execution_count": 59,
   "metadata": {},
   "outputs": [
    {
     "name": "stdout",
     "output_type": "stream",
     "text": [
      "Месяц изменился: 3 -> 3\n",
      "Первая дата года: 2017-03-01\n",
      "[*********************100%***********************]  1 of 1 completed\n",
      "[*********************100%***********************]  1 of 1 completed\n",
      "[*********************100%***********************]  1 of 1 completed\n",
      "[*********************100%***********************]  1 of 1 completed\n",
      "[*********************100%***********************]  1 of 1 completed\n"
     ]
    }
   ],
   "source": [
    "eq, ord, tc, portf, d = backtest(new_data, cash = 10000, weights = weights_10)\n",
    "plt.clf\n",
    "plt.ioff\n",
    "create_stats(eq, banchmarks = ['^GSPC', 'ICLN','^STOXX', 'URTH', '^GSPE'], start_cash = 10000, num_years = 7, risk_free = 0.0237, orders=ord, total_comission = tc, filename='connect_back_10b_10k')"
   ]
  },
  {
   "cell_type": "code",
   "execution_count": 50,
   "metadata": {},
   "outputs": [
    {
     "name": "stdout",
     "output_type": "stream",
     "text": [
      "Месяц изменился: 3 -> 3\n",
      "Первая дата года: 2017-03-01\n",
      "[*********************100%***********************]  1 of 1 completed\n",
      "[*********************100%***********************]  1 of 1 completed\n",
      "[*********************100%***********************]  1 of 1 completed\n",
      "[*********************100%***********************]  1 of 1 completed\n",
      "[*********************100%***********************]  1 of 1 completed\n"
     ]
    }
   ],
   "source": [
    "eq, ord, tc, portf, d = backtest(new_data, cash = 10000, weights = weights_20)\n",
    "plt.clf\n",
    "plt.ioff\n",
    "create_stats(eq, banchmarks = ['^GSPC', 'ICLN','^STOXX', 'URTH', '^GSPE'], start_cash = 10000, num_years = 7, risk_free = 0.0237, orders=ord, total_comission = tc, filename='connect_back_20b_10k')"
   ]
  },
  {
   "cell_type": "code",
   "execution_count": 56,
   "metadata": {},
   "outputs": [
    {
     "name": "stdout",
     "output_type": "stream",
     "text": [
      "Месяц изменился: 3 -> 3\n",
      "Первая дата года: 2017-03-01\n",
      "[*********************100%***********************]  1 of 1 completed\n",
      "[*********************100%***********************]  1 of 1 completed\n",
      "[*********************100%***********************]  1 of 1 completed\n",
      "[*********************100%***********************]  1 of 1 completed\n",
      "[*********************100%***********************]  1 of 1 completed\n"
     ]
    }
   ],
   "source": [
    "eq, ord, tc, portf, d = backtest(new_data, cash = 10000, weights = weights_min)\n",
    "plt.clf\n",
    "plt.ioff\n",
    "create_stats(eq, banchmarks = ['^GSPC', 'ICLN','^STOXX', 'URTH', '^GSPE'], start_cash = 10000, num_years = 7, risk_free = 0.0237, orders=ord, total_comission = tc, filename='connect_back_30b_10k')"
   ]
  }
 ],
 "metadata": {
  "kernelspec": {
   "display_name": "Python 3",
   "language": "python",
   "name": "python3"
  },
  "language_info": {
   "codemirror_mode": {
    "name": "ipython",
    "version": 3
   },
   "file_extension": ".py",
   "mimetype": "text/x-python",
   "name": "python",
   "nbconvert_exporter": "python",
   "pygments_lexer": "ipython3",
   "version": "3.9.6"
  },
  "orig_nbformat": 4
 },
 "nbformat": 4,
 "nbformat_minor": 2
}
